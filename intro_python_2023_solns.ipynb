{
 "cells": [
  {
   "cell_type": "markdown",
   "id": "2c01d8cf-b0e3-4a7e-8cd7-7d4d61458c7d",
   "metadata": {
    "tags": []
   },
   "source": [
    "<h1><center>Computing: Intro to Python (Exercise Solutions)</center></h1>\n",
    "\n",
    "**<center>IceCube Summer School 2023 </center>**\n",
    "**<center>Delaney Butterfield (UW Madison) </center>**\n",
    "\n",
    "<center>With inspiration from Abby Bishop and Alex Pizzuto's notebooks from previous years</center>"
   ]
  },
  {
   "cell_type": "markdown",
   "id": "d7f8e985-cf72-47ef-b1b2-5b143c390b4d",
   "metadata": {},
   "source": [
    "The \"simple\" types consist of integers (<CODE>int</CODE>), floating-point numbers (<CODE>float</CODE>), complex numbers (<CODE>complex</CODE>), boolean values (<CODE>bool</CODE>), and the None type (<CODE>NoneType</CODE>)."
   ]
  },
  {
   "cell_type": "markdown",
   "id": "e040e880-60a0-481e-99af-86a28781085c",
   "metadata": {
    "tags": []
   },
   "source": [
    "<h4> Integers </h4>\n",
    "Integers represent whole numbers ( ...,-2, -1, 0, 1, 2,...). Numbers without a decimal point or exponential notation produce integers."
   ]
  },
  {
   "cell_type": "code",
   "execution_count": 6,
   "id": "172f0f79-915e-4e5e-a9f7-75260c4d9eb9",
   "metadata": {},
   "outputs": [
    {
     "name": "stdout",
     "output_type": "stream",
     "text": [
      "<class 'int'>\n"
     ]
    }
   ],
   "source": [
    "a = 2\n",
    "print(type(a))"
   ]
  },
  {
   "cell_type": "markdown",
   "id": "c13bd6a1-324a-4e48-b043-e8a0600836f0",
   "metadata": {},
   "source": [
    "<h4> Floating-point numbers </h4>"
   ]
  },
  {
   "cell_type": "markdown",
   "id": "de8219a0-fbd6-4a0a-bccc-106efed34075",
   "metadata": {
    "tags": []
   },
   "source": [
    "Floating-point numbers (often called \"floats\") represent real numbers. Number containing a decimal point or exponential notation are used to define floating-point values."
   ]
  },
  {
   "cell_type": "code",
   "execution_count": 7,
   "id": "dcd8fca7-f4c3-4bcc-9b06-f0a178afefc9",
   "metadata": {},
   "outputs": [
    {
     "name": "stdout",
     "output_type": "stream",
     "text": [
      "<class 'float'>\n"
     ]
    },
    {
     "data": {
      "text/plain": [
       "(3, 2)"
      ]
     },
     "execution_count": 7,
     "metadata": {},
     "output_type": "execute_result"
    }
   ],
   "source": [
    "b = 1.5\n",
    "print(type(b))\n",
    "b.as_integer_ratio()"
   ]
  },
  {
   "cell_type": "markdown",
   "id": "20a6594f-e7f4-4621-8713-9b601f9a11a0",
   "metadata": {},
   "source": [
    "Exponential notation (e or E) is shorthand for scientific notation. E.g. 7e3 = 7×10^3"
   ]
  },
  {
   "cell_type": "code",
   "execution_count": 8,
   "id": "4ed8feb5-24f2-467b-ad16-d72ebbb75ad2",
   "metadata": {},
   "outputs": [
    {
     "name": "stdout",
     "output_type": "stream",
     "text": [
      "7000.0\n",
      "<class 'float'>\n"
     ]
    }
   ],
   "source": [
    "c = 7e3\n",
    "print(c)\n",
    "print(type(c))"
   ]
  },
  {
   "cell_type": "markdown",
   "id": "11ac046e-195c-4868-b69f-2a090f4628bf",
   "metadata": {},
   "source": [
    "<h4> Complex numbers </h4>"
   ]
  },
  {
   "cell_type": "markdown",
   "id": "cb44658f-7743-460c-a440-33b6288aac95",
   "metadata": {
    "tags": []
   },
   "source": [
    "A complex number can be created by including a 'j' or 'J' in a number. The corresponding real and imaginary parts of the complex number can be accessed using real and imag attributes."
   ]
  },
  {
   "cell_type": "code",
   "execution_count": 9,
   "id": "4cd57946-a4b0-4e79-8fde-72eeafae19c2",
   "metadata": {},
   "outputs": [
    {
     "name": "stdout",
     "output_type": "stream",
     "text": [
      "<class 'complex'>\n",
      "7.0\n",
      "4.3\n"
     ]
    }
   ],
   "source": [
    "z = 7 + 4.3j\n",
    "print(type(z))\n",
    "print(z.real)\n",
    "print(z.imag)"
   ]
  },
  {
   "cell_type": "markdown",
   "id": "c359e78f-3768-4cf2-8cbb-9120501d3f29",
   "metadata": {},
   "source": [
    "Note that the real and imaginary parts for the complex type are floating-point numbers—regardless of whether or not there is a decimal point."
   ]
  },
  {
   "cell_type": "code",
   "execution_count": 10,
   "id": "e09bdd93-7473-4919-8219-f4d7184e0509",
   "metadata": {},
   "outputs": [
    {
     "name": "stdout",
     "output_type": "stream",
     "text": [
      "<class 'float'>\n"
     ]
    }
   ],
   "source": [
    "print(type(z.real))"
   ]
  },
  {
   "cell_type": "markdown",
   "id": "2f519c20-ccbd-4539-9a63-f1e6079e1cde",
   "metadata": {
    "tags": []
   },
   "source": [
    "<h4> Booleans </h4>"
   ]
  },
  {
   "cell_type": "markdown",
   "id": "09d7c0ee-1a08-424e-997c-b025dedd8cf4",
   "metadata": {
    "tags": []
   },
   "source": [
    "Booleans can take on one of two possible values: <CODE>True</CODE> or <CODE>False</CODE>. Booleans will be utilized later when we discuss the conditional statements in Python."
   ]
  },
  {
   "cell_type": "code",
   "execution_count": 11,
   "id": "60d670c5-699e-4e56-bd02-8b6563ed08a8",
   "metadata": {},
   "outputs": [
    {
     "name": "stdout",
     "output_type": "stream",
     "text": [
      "<class 'bool'>\n"
     ]
    }
   ],
   "source": [
    "n = True\n",
    "print(type(n))"
   ]
  },
  {
   "cell_type": "code",
   "execution_count": 12,
   "id": "7b020355-8ea9-4e3e-8c0c-a197cfc9d258",
   "metadata": {},
   "outputs": [
    {
     "name": "stdout",
     "output_type": "stream",
     "text": [
      "<class 'bool'>\n"
     ]
    }
   ],
   "source": [
    "p = False\n",
    "print(type(p))"
   ]
  },
  {
   "cell_type": "markdown",
   "id": "9d65d5dd-e978-4506-ae6c-13f7c96ed3a2",
   "metadata": {},
   "source": [
    "Note that <CODE>bool</CODE> values <b>ARE</b> case sensitive—the first letter needs to be capitalized."
   ]
  },
  {
   "cell_type": "markdown",
   "id": "e1bad1b6-b339-447a-8e58-748f72bad25b",
   "metadata": {
    "tags": []
   },
   "source": [
    "<h4> None type </h4>"
   ]
  },
  {
   "cell_type": "markdown",
   "id": "20722946-e9be-423c-b19f-9219f3895a23",
   "metadata": {
    "tags": []
   },
   "source": [
    "The <CODE>NoneType</CODE> type represents just a single value: <CODE>None</CODE>. <CODE>None</CODE> is commonly used to represent un-initialized values. In addition, functions that don't have an explicit return value will implicity return <CODE>None</CODE>."
   ]
  },
  {
   "cell_type": "code",
   "execution_count": 13,
   "id": "7d113f95-fdcd-466a-8b49-248d4d931758",
   "metadata": {},
   "outputs": [
    {
     "name": "stdout",
     "output_type": "stream",
     "text": [
      "<class 'NoneType'>\n"
     ]
    }
   ],
   "source": [
    "z = None\n",
    "print(type(z))"
   ]
  },
  {
   "cell_type": "markdown",
   "id": "af7c37a5-5e9e-428d-b675-bde284db0a6f",
   "metadata": {
    "jp-MarkdownHeadingCollapsed": true,
    "tags": []
   },
   "source": [
    "In addition to <CODE>int</CODE>, <CODE>float</CODE>, <CODE>complex</CODE>, <CODE>bool</CODE>, and <CODE>NoneType</CODE>, Python also has several built-in data structures that are used as containers for other types. These \"compound\" types consist of lists (<CODE>list</CODE>), tuples (<CODE>tuple</CODE>), strings (<CODE>str</CODE>), sets (<CODE>set</CODE>), and dictionaries (<CODE>dict</CODE>)."
   ]
  },
  {
   "cell_type": "markdown",
   "id": "c25f6041-bfe2-46f4-abeb-b815a48b358e",
   "metadata": {
    "tags": []
   },
   "source": [
    "<h4> Lists </h4>\n",
    "A list is an <b>ordered, mutable</b> collection of data (data elements are called \"items\"). We'll discuss mutable vs. immutable objects momentarily. Lists are constructed using square brackets with list items seperated by commas."
   ]
  },
  {
   "cell_type": "code",
   "execution_count": 14,
   "id": "ee125814-25de-4116-a484-b3dfe4734b58",
   "metadata": {},
   "outputs": [
    {
     "name": "stdout",
     "output_type": "stream",
     "text": [
      "<class 'list'>\n",
      "[2.3, 5, -43, 74.7, 5]\n"
     ]
    }
   ],
   "source": [
    "d = [2.3, 5, -43, 74.7, 5]\n",
    "print(type(d))\n",
    "print(d)"
   ]
  },
  {
   "cell_type": "markdown",
   "id": "068824b1-8c74-43c9-8642-62bb744e6a86",
   "metadata": {},
   "source": [
    "Lists have lots of built-in functionality. For example, You can use the built-in <CODE>len</CODE> function to get the number of items in a list"
   ]
  },
  {
   "cell_type": "code",
   "execution_count": 15,
   "id": "fafc8df8-191c-46f6-87a6-87e8dc7a102c",
   "metadata": {},
   "outputs": [
    {
     "data": {
      "text/plain": [
       "5"
      ]
     },
     "execution_count": 15,
     "metadata": {},
     "output_type": "execute_result"
    }
   ],
   "source": [
    "len(d)"
   ]
  },
  {
   "cell_type": "markdown",
   "id": "887dd5a5-dde6-4bb0-9935-e373da2c5e2a",
   "metadata": {},
   "source": [
    "The list <CODE>append</CODE> method can be used to add elements to a list"
   ]
  },
  {
   "cell_type": "code",
   "execution_count": 16,
   "id": "9233c702-27dd-4e72-8a6e-425bb9ee582b",
   "metadata": {},
   "outputs": [
    {
     "name": "stdout",
     "output_type": "stream",
     "text": [
      "[2.3, 5, -43, 74.7, 5, 3.1415]\n"
     ]
    }
   ],
   "source": [
    "d.append(3.1415)\n",
    "print(d)"
   ]
  },
  {
   "cell_type": "markdown",
   "id": "82e55c39-fe3d-4dad-bbca-2e370cddfa7e",
   "metadata": {},
   "source": [
    "The list <CODE>sort</CODE> method will sort the items in a list into ascending order"
   ]
  },
  {
   "cell_type": "code",
   "execution_count": 17,
   "id": "fe703b6a-750d-4710-905f-c51615e32c33",
   "metadata": {},
   "outputs": [
    {
     "name": "stdout",
     "output_type": "stream",
     "text": [
      "[-43, 2.3, 3.1415, 5, 5, 74.7]\n"
     ]
    }
   ],
   "source": [
    "d.sort()\n",
    "print(d)"
   ]
  },
  {
   "cell_type": "markdown",
   "id": "04a9b542-c79b-4a52-81b8-82d5f439437c",
   "metadata": {},
   "source": [
    "The list <CODE>reverse</CODE> method will reserve the order of a list"
   ]
  },
  {
   "cell_type": "code",
   "execution_count": 18,
   "id": "c0f6705b-dc9b-457a-9852-94159fbcb0b9",
   "metadata": {},
   "outputs": [
    {
     "name": "stdout",
     "output_type": "stream",
     "text": [
      "[74.7, 5, 5, 3.1415, 2.3, -43]\n"
     ]
    }
   ],
   "source": [
    "d.reverse()\n",
    "print(d)"
   ]
  },
  {
   "cell_type": "markdown",
   "id": "14b74a1f-4af7-454c-b36a-8b5b466f7ce0",
   "metadata": {},
   "source": [
    "The list <CODE>count</CODE> method counts the number of times an item occurs in a list"
   ]
  },
  {
   "cell_type": "code",
   "execution_count": 19,
   "id": "500531b8-b805-46fa-bbab-e34acac7d3a4",
   "metadata": {},
   "outputs": [
    {
     "data": {
      "text/plain": [
       "2"
      ]
     },
     "execution_count": 19,
     "metadata": {},
     "output_type": "execute_result"
    }
   ],
   "source": [
    "# Counts how many times the item 5 occurs in the list d\n",
    "d.count(5)"
   ]
  },
  {
   "cell_type": "markdown",
   "id": "1205a1dd-1055-4e23-a1d1-f8d62eaee9fb",
   "metadata": {},
   "source": [
    "Note that a <CODE>list</CODE> can contain any type of object. The items in a <CODE>list</CODE> need not be homogeneous. For example,"
   ]
  },
  {
   "cell_type": "code",
   "execution_count": 20,
   "id": "cf4c15d6-847c-4653-9f8f-b0f91e32f049",
   "metadata": {},
   "outputs": [
    {
     "name": "stdout",
     "output_type": "stream",
     "text": [
      "[1, False, 23.11, [1, 2, 3], None]\n"
     ]
    }
   ],
   "source": [
    "crazy_list = [1, False, 23.11, [1, 2, 3], None]\n",
    "print(crazy_list)"
   ]
  },
  {
   "cell_type": "markdown",
   "id": "956ba2a5-1a95-4d85-ac09-53a2cf054781",
   "metadata": {},
   "source": [
    "The items in a list can be accessed using <b>list indexing</b>. Indexing a list consists of adding the item index in square brackets after a list. It's also important to note that in Python <b>list indices begin with zero.</b> So the first item in a list has the index 0, the second item has the index 1, and so on. For example"
   ]
  },
  {
   "cell_type": "code",
   "execution_count": 21,
   "id": "8492f9f9-89d0-4056-a332-8957b61f461d",
   "metadata": {},
   "outputs": [
    {
     "name": "stdout",
     "output_type": "stream",
     "text": [
      "2.3\n",
      "5\n",
      "-43\n"
     ]
    }
   ],
   "source": [
    "d = [2.3, 5, -43, 74.7, 5]\n",
    "print(d[0])\n",
    "print(d[1])\n",
    "print(d[2])"
   ]
  },
  {
   "cell_type": "markdown",
   "id": "ca707bee-9781-4703-ab6d-0767785a8b32",
   "metadata": {},
   "source": [
    "Python also supports negative indexing. This has the effect of staring from the end of the list. So the last item in a list has an index of <CODE>-1</CODE>, the second to last item has an index of <CODE>-2</CODE>, and so on."
   ]
  },
  {
   "cell_type": "code",
   "execution_count": 22,
   "id": "7a112bba-4fbc-487b-8da4-3979d076fa5f",
   "metadata": {},
   "outputs": [
    {
     "name": "stdout",
     "output_type": "stream",
     "text": [
      "5\n",
      "74.7\n",
      "-43\n"
     ]
    }
   ],
   "source": [
    "print(d[-1])\n",
    "print(d[-2])\n",
    "print(d[-3])"
   ]
  },
  {
   "cell_type": "markdown",
   "id": "a2f569ca-3599-412f-b16e-08d28dd2d4ad",
   "metadata": {},
   "source": [
    "In addition to indexing a list to get back list items, you can using slicing to get back a sub-list. The syntax for list slicing is given by\n",
    "\n",
    "<CODE>list_object[starting_index : stopping_index : index_step_size]</CODE>\n",
    "\n",
    "As an example we could use 0:3 which would give us all the elements starting with the zero index item and up to but not including the third index item."
   ]
  },
  {
   "cell_type": "code",
   "execution_count": 23,
   "id": "b4bfae3c-1a94-470a-badc-8fc1f0364075",
   "metadata": {},
   "outputs": [
    {
     "name": "stdout",
     "output_type": "stream",
     "text": [
      "[2.3, 5, -43, 74.7, 5]\n",
      "[2.3, 5, -43]\n"
     ]
    }
   ],
   "source": [
    "print(d)\n",
    "print(d[0:3]) # This will return the sub-list starting from the index 0 up to, but not including, the index 3"
   ]
  },
  {
   "cell_type": "markdown",
   "id": "134c62df-2e35-4495-8e39-1b03b6b66e53",
   "metadata": {},
   "source": [
    "By default, the starting index is <CODE>0</CODE> (at the beginning of the list), the stopping index corresponds to the last item, and the step size is <CODE>1</CODE>."
   ]
  },
  {
   "cell_type": "code",
   "execution_count": 24,
   "id": "c966a4e7-9a81-4c66-9967-50164fd414e8",
   "metadata": {},
   "outputs": [
    {
     "name": "stdout",
     "output_type": "stream",
     "text": [
      "[2.3, 5, -43, 74.7, 5]\n",
      "[2.3, 5, -43, 74.7]\n",
      "[5, -43, 74.7, 5]\n",
      "[2.3, -43, 5]\n",
      "[2.3]\n"
     ]
    }
   ],
   "source": [
    "print(d)\n",
    "print(d[:4]) \n",
    "print(d[1:])\n",
    "print(d[::2])\n",
    "print(d[:-4])"
   ]
  },
  {
   "cell_type": "markdown",
   "id": "e549d454-9c40-4ec7-bdd1-9ffaced00992",
   "metadata": {
    "jp-MarkdownHeadingCollapsed": true,
    "tags": []
   },
   "source": [
    "<h4> Tuples </h4>\n",
    "Tuples are <b>ordered, immutable</b> collection of data. Tuples can be construced in a similar way as lists, but with parenthesis instead of square brackets."
   ]
  },
  {
   "cell_type": "code",
   "execution_count": 25,
   "id": "39645c56-119a-4c82-9896-bdc0198888e7",
   "metadata": {},
   "outputs": [
    {
     "name": "stdout",
     "output_type": "stream",
     "text": [
      "<class 'tuple'>\n"
     ]
    }
   ],
   "source": [
    "f = (83.2, -4 ,5e7)\n",
    "print(type(f))"
   ]
  },
  {
   "cell_type": "markdown",
   "id": "27e21c0f-b816-4495-ada6-b60ff57a9ab3",
   "metadata": {},
   "source": [
    "One weird quirk is that a tuple with a single item needs to have a trailing comma, e.g."
   ]
  },
  {
   "cell_type": "code",
   "execution_count": 26,
   "id": "5e6f1520-a52e-45a7-8dd0-7eee2e432dfa",
   "metadata": {},
   "outputs": [
    {
     "name": "stdout",
     "output_type": "stream",
     "text": [
      "(83.2,)\n",
      "<class 'tuple'>\n"
     ]
    }
   ],
   "source": [
    "f = (83.2,)\n",
    "print(f)\n",
    "print(type(f))"
   ]
  },
  {
   "cell_type": "markdown",
   "id": "39070e2a-2354-439a-a12e-b1480f4128bb",
   "metadata": {},
   "source": [
    "If this trailing comma is left out, then python will assume you don't actually want a tuple and will assign whatever the single item is in parenthesis to your variable. For example,"
   ]
  },
  {
   "cell_type": "code",
   "execution_count": 27,
   "id": "dd8f035d-0e49-4fb6-af43-89c1ed4783c0",
   "metadata": {},
   "outputs": [
    {
     "name": "stdout",
     "output_type": "stream",
     "text": [
      "83.2\n",
      "<class 'float'>\n"
     ]
    }
   ],
   "source": [
    "f = (83.2)\n",
    "print(f)\n",
    "print(type(f))"
   ]
  },
  {
   "cell_type": "markdown",
   "id": "fcf77d00-8663-4f77-8c98-591d33191b3e",
   "metadata": {},
   "source": [
    "The number of items in a tuple can be found using the built-in len function, and they support indexing and slicing similar to lists."
   ]
  },
  {
   "cell_type": "code",
   "execution_count": 28,
   "id": "46788e5e-dd0f-4dbc-a941-168afcca7472",
   "metadata": {},
   "outputs": [
    {
     "name": "stdout",
     "output_type": "stream",
     "text": [
      "(1, 3.2, False, 222, None)\n",
      "5\n",
      "(3.2, False, 222)\n"
     ]
    }
   ],
   "source": [
    "g = (1, 3.2, False, 222, None)\n",
    "print(g)\n",
    "print(len(g))\n",
    "print(g[1:4])"
   ]
  },
  {
   "cell_type": "markdown",
   "id": "4876c627-f861-4dce-93c2-fc974a0bb381",
   "metadata": {},
   "source": [
    "Let's create a list"
   ]
  },
  {
   "cell_type": "code",
   "execution_count": 29,
   "id": "80a9a2e6-c5a7-4851-ab77-5c814ebceeb2",
   "metadata": {},
   "outputs": [],
   "source": [
    "g = [1, 2, 3, 4]"
   ]
  },
  {
   "cell_type": "markdown",
   "id": "88fe396a-5934-4edb-a1c7-bedc72b5639a",
   "metadata": {},
   "source": [
    "Now let's modify the list in place. That is, let's try to change the items in the list without creating a whole new list."
   ]
  },
  {
   "cell_type": "code",
   "execution_count": 30,
   "id": "fb2db461-7547-4976-b70a-1ca4d2eb002b",
   "metadata": {},
   "outputs": [
    {
     "name": "stdout",
     "output_type": "stream",
     "text": [
      "[99, 2, 3, 4]\n"
     ]
    }
   ],
   "source": [
    "g[0] = 99\n",
    "print(g)"
   ]
  },
  {
   "cell_type": "markdown",
   "id": "acc0d38c-9f66-44c6-808f-7d56ace13b01",
   "metadata": {},
   "source": [
    "As you can see, there wasn't a problem here. We assigned to the variable <CODE>g</CODE> the list <CODE>[1, 2, 3, 4]</CODE>, then modified the zeroth item in <CODE>g</CODE> to be the number <CODE>99</CODE>. Let's try the same thing with a <CODE>tuple</CODE> now."
   ]
  },
  {
   "cell_type": "code",
   "execution_count": 31,
   "id": "5d609c49-ad82-4339-a7b4-14a622dc8dd8",
   "metadata": {},
   "outputs": [
    {
     "name": "stdout",
     "output_type": "stream",
     "text": [
      "(1, 2, 3, 4)\n"
     ]
    }
   ],
   "source": [
    "g = (1, 2, 3, 4)\n",
    "print(g)"
   ]
  },
  {
   "cell_type": "code",
   "execution_count": 32,
   "id": "a0d66260-0c71-424f-8e2b-dfa055b7e52f",
   "metadata": {},
   "outputs": [
    {
     "ename": "TypeError",
     "evalue": "'tuple' object does not support item assignment",
     "output_type": "error",
     "traceback": [
      "\u001b[0;31m---------------------------------------------------------------------------\u001b[0m",
      "\u001b[0;31mTypeError\u001b[0m                                 Traceback (most recent call last)",
      "Input \u001b[0;32mIn [32]\u001b[0m, in \u001b[0;36m<cell line: 1>\u001b[0;34m()\u001b[0m\n\u001b[0;32m----> 1\u001b[0m \u001b[43mg\u001b[49m\u001b[43m[\u001b[49m\u001b[38;5;241;43m0\u001b[39;49m\u001b[43m]\u001b[49m \u001b[38;5;241m=\u001b[39m \u001b[38;5;241m99\u001b[39m\n\u001b[1;32m      2\u001b[0m \u001b[38;5;28mprint\u001b[39m(g)\n",
      "\u001b[0;31mTypeError\u001b[0m: 'tuple' object does not support item assignment"
     ]
    }
   ],
   "source": [
    "g[0] = 99\n",
    "print(g)"
   ]
  },
  {
   "cell_type": "markdown",
   "id": "95efe70b-b0d4-4b48-91b4-2a7681ea9ade",
   "metadata": {},
   "source": [
    "We got this error because tuples are immutable—they can't be modified once they're created."
   ]
  },
  {
   "cell_type": "markdown",
   "id": "aa7d4003-ba3b-448c-8d08-c8b1fe45d066",
   "metadata": {
    "jp-MarkdownHeadingCollapsed": true,
    "tags": []
   },
   "source": [
    "<h4> Sets </h4>\n",
    "A set is an unordered collection with no duplicate elements. They are constructed with comma separated items in curly brackets, <CODE>{}</CODE>."
   ]
  },
  {
   "cell_type": "code",
   "execution_count": null,
   "id": "f01f80e4-5aca-4a5d-8153-b92120ff154d",
   "metadata": {},
   "outputs": [],
   "source": [
    "s = {1, 2, 3, 4, 2, 2, 3, 1}\n",
    "print(s)"
   ]
  },
  {
   "cell_type": "markdown",
   "id": "bba79041-7c6a-4ffa-9191-b93af6e32240",
   "metadata": {},
   "source": [
    "Set objects support mathematical operations like union, intersection, difference, and symmetric difference. Set unions are done with the <CODE>|</CODE> operator or using the set <CODE>union</CODE> method. For example,"
   ]
  },
  {
   "cell_type": "code",
   "execution_count": null,
   "id": "ea5f456d-0914-4b66-bde5-9507ae6edbd4",
   "metadata": {},
   "outputs": [],
   "source": [
    "s1 = {1, 2, 3, 4}\n",
    "s2 = {3, 4, 5, 6}\n",
    "print(s1 | s2)\n",
    "print(s1.union(s2))"
   ]
  },
  {
   "cell_type": "markdown",
   "id": "2067b2cf-fa9d-4e60-ab8c-db181b7b9ae0",
   "metadata": {},
   "source": [
    "Set intersections are done with the <CODE>&</CODE> operator or using the set <CODE>intersection</CODE> method. For example,"
   ]
  },
  {
   "cell_type": "code",
   "execution_count": null,
   "id": "08882b49-d49a-4992-8283-21518156c0d4",
   "metadata": {},
   "outputs": [],
   "source": [
    "print(s1 & s2)\n",
    "print(s1.intersection(s2))"
   ]
  },
  {
   "cell_type": "markdown",
   "id": "699c4132-372e-4962-89ec-0b1dd85add0a",
   "metadata": {},
   "source": [
    "As always, the number of items in a set can be found using the <CODE>len</CODE> function."
   ]
  },
  {
   "cell_type": "code",
   "execution_count": null,
   "id": "de2f115e-6823-4175-848e-fd81046d875d",
   "metadata": {},
   "outputs": [],
   "source": [
    "len(s1)"
   ]
  },
  {
   "cell_type": "markdown",
   "id": "06aff198-ac46-4d80-a92f-ae55cf3ebc4d",
   "metadata": {
    "jp-MarkdownHeadingCollapsed": true,
    "tags": []
   },
   "source": [
    "<h4> Strings </h4>\n",
    "Strings are used to represent a sequence of characters. Strings can be created by enclosing characters in either single or double quotes."
   ]
  },
  {
   "cell_type": "code",
   "execution_count": null,
   "id": "42b2786f-f509-4b0a-bbd5-e8e6ccc8a0dc",
   "metadata": {},
   "outputs": [],
   "source": [
    "g = 'pizza'\n",
    "type(g)"
   ]
  },
  {
   "cell_type": "code",
   "execution_count": null,
   "id": "d9d88b91-ca8d-438f-83f4-dcf8afdf4ecf",
   "metadata": {},
   "outputs": [],
   "source": [
    "h = \"jamesbond007\"\n",
    "type(h)"
   ]
  },
  {
   "cell_type": "markdown",
   "id": "99b75958-b433-4a06-8c08-637da81be3c0",
   "metadata": {},
   "source": [
    "Strings can also be index just like lists and tuples."
   ]
  },
  {
   "cell_type": "code",
   "execution_count": null,
   "id": "8b517958-2744-462a-b927-9efd290274e8",
   "metadata": {},
   "outputs": [],
   "source": [
    "h[0]"
   ]
  },
  {
   "cell_type": "code",
   "execution_count": null,
   "id": "b8de4230-eba4-408c-876e-c9a25033af63",
   "metadata": {},
   "outputs": [],
   "source": [
    "h[-4]"
   ]
  },
  {
   "cell_type": "code",
   "execution_count": null,
   "id": "a70c7777-4af6-467d-ad4a-729679139469",
   "metadata": {},
   "outputs": [],
   "source": [
    "h[3:6]"
   ]
  },
  {
   "cell_type": "markdown",
   "id": "5cf99469-1784-40b4-8e02-0805f29be8d1",
   "metadata": {},
   "source": [
    "You can also find out how many characters are in a string using the <CODE>len()</CODE> function"
   ]
  },
  {
   "cell_type": "code",
   "execution_count": null,
   "id": "a760e32f-62dc-474b-8313-67c06b77a519",
   "metadata": {},
   "outputs": [],
   "source": [
    "len(h)"
   ]
  },
  {
   "cell_type": "markdown",
   "id": "218a30db-f774-4ebf-aba7-b171a6e6200d",
   "metadata": {
    "jp-MarkdownHeadingCollapsed": true,
    "tags": []
   },
   "source": [
    "<h4> Dictionaries </h4>\n",
    "Dictionaries are unordered containers for key-value pairs. That is, dictionaries store a mapping for each key to an associated value. Dictionaries are created by placing comma-separated key-value pairs inside curly brackets <CODE>{}</CODE>. For a key-value pair, the key and corresponding value are seperated by a colon, <CODE>:</CODE>.\n",
    "\n",
    "An example might help..."
   ]
  },
  {
   "cell_type": "code",
   "execution_count": null,
   "id": "de711b43-71fe-4ac8-ad1d-77b65fbdffcb",
   "metadata": {},
   "outputs": [],
   "source": [
    "k = {'MJ': 23, 'longitude': -53.2, 'city': 'Tokyo'}\n",
    "print(type(k))"
   ]
  },
  {
   "cell_type": "markdown",
   "id": "68f130c9-fee2-45f7-870e-12b266d193e3",
   "metadata": {},
   "source": [
    "Here, the dictionary keys are 'key1', 'key2', and 'key3', with corresponding values of 23, -53.2, and 'Tokyo'. In a similar way to sequences, you can access the values in a dicionary by giving the corresponding key in square brackets."
   ]
  },
  {
   "cell_type": "code",
   "execution_count": null,
   "id": "a6b6a91f-ddef-44a2-a73e-e61f1aa4abd1",
   "metadata": {},
   "outputs": [],
   "source": [
    "k['MJ']"
   ]
  },
  {
   "cell_type": "code",
   "execution_count": null,
   "id": "ffa7d283-8d1f-4155-8532-be6305330805",
   "metadata": {},
   "outputs": [],
   "source": [
    "k['longitude']"
   ]
  },
  {
   "cell_type": "code",
   "execution_count": null,
   "id": "132af6ba-cf5d-4209-af0e-3ed36ecc962d",
   "metadata": {},
   "outputs": [],
   "source": [
    "k['city']"
   ]
  },
  {
   "cell_type": "markdown",
   "id": "9bd81025-1417-4d8f-a3fd-7909d36b7aaa",
   "metadata": {},
   "source": [
    "The keys in a dictionary can be obtained by using the dictionary <CODE>keys</CODE> method"
   ]
  },
  {
   "cell_type": "code",
   "execution_count": null,
   "id": "8b60d125-77f2-49b8-9265-68f2912a89ae",
   "metadata": {},
   "outputs": [],
   "source": [
    "k.keys()"
   ]
  },
  {
   "cell_type": "markdown",
   "id": "bbcf4708-1aaf-459b-bd3b-f80f7e69f41c",
   "metadata": {},
   "source": [
    "The values in a dictionary can be obtained by using the dictionary <CODE>values</CODE> method"
   ]
  },
  {
   "cell_type": "code",
   "execution_count": null,
   "id": "85ba1558-f9f1-4a8d-b45e-af7abea1af9a",
   "metadata": {},
   "outputs": [],
   "source": [
    "k.values()"
   ]
  },
  {
   "cell_type": "markdown",
   "id": "b473bf2d-20b3-45ff-8a9b-bc05081096a8",
   "metadata": {},
   "source": [
    "The size of a dictionary (the number of key-value pairs it contains) can be found with the built-in <CODE>len()</CODE> function."
   ]
  },
  {
   "cell_type": "code",
   "execution_count": null,
   "id": "f826dc9c-55b6-4d75-ac3c-86ac653cd5d0",
   "metadata": {},
   "outputs": [],
   "source": [
    "len(k)"
   ]
  },
  {
   "cell_type": "markdown",
   "id": "7ea9c487-14aa-4ff1-aafc-1f00ebc758e4",
   "metadata": {},
   "source": [
    "It is important to note that in the previous example all the keys were strings, but this doesn't have to be the case. The only restriction on keys is that they be hashable. This means that keys must be an <I>immutable type</I>. For example, the following is also an acceptable dictionary."
   ]
  },
  {
   "cell_type": "code",
   "execution_count": null,
   "id": "310244d3-dab6-4f37-8f75-b2bbc2683be5",
   "metadata": {},
   "outputs": [],
   "source": [
    "m = {-23: [1, 2, 3, 4], 'desk': 3.2, 7.12: (-3, 'bird')}\n",
    "m[-23]"
   ]
  },
  {
   "cell_type": "code",
   "execution_count": null,
   "id": "8bd18bc5-ae9a-440d-b3fa-377cb579a671",
   "metadata": {},
   "outputs": [],
   "source": [
    "m['desk']"
   ]
  },
  {
   "cell_type": "code",
   "execution_count": null,
   "id": "b3422924-1678-4722-a933-59feec2481cc",
   "metadata": {},
   "outputs": [],
   "source": [
    "m[7.12]"
   ]
  },
  {
   "cell_type": "markdown",
   "id": "6c0dd849-8a51-4c95-98b4-2865cc422fd9",
   "metadata": {},
   "source": [
    "Let see what happens if I try to contruct a dictionary with a list (a mutable object) as a key"
   ]
  },
  {
   "cell_type": "code",
   "execution_count": null,
   "id": "53129eca-a263-402e-9552-788e2553dd53",
   "metadata": {},
   "outputs": [],
   "source": [
    "n = {[1, 2, 3]: 'WOO'}"
   ]
  },
  {
   "cell_type": "markdown",
   "id": "e8b1567d-549e-4fd9-9af9-2fb6040ae7bc",
   "metadata": {},
   "source": [
    "Whoops lists are mutable! So remember to always use immutable objects for dictionary keys!"
   ]
  },
  {
   "cell_type": "markdown",
   "id": "61c7c805-7576-459a-b0b0-fcba636342fd",
   "metadata": {
    "jp-MarkdownHeadingCollapsed": true,
    "tags": []
   },
   "source": [
    "Other useful types can be found in the <CODE>collections</CODE> module in the Python standard library.\n",
    "<ul>\n",
    "    <li>namedtuple</li>\n",
    "    <li>Counter</li>\n",
    "    <li>OrderedDict</li>\n",
    "    <li>defaultdict</li>\n",
    "</ul>"
   ]
  },
  {
   "cell_type": "markdown",
   "id": "8a52d1d6-c69e-4279-9681-d60bfceee768",
   "metadata": {
    "tags": []
   },
   "source": [
    "Sometimes it can be useful to change the type of an object. In Python, this so-called \"type-casting\" can be accomplished using several built-in functions:\n",
    "<ul>\n",
    "    <li>int()—casts to integer</li>\n",
    "    <li>float()—casts to float</li>\n",
    "    <li>str()—casts to string</li>\n",
    "    <li>bool()—casts to boolean</li>\n",
    "</ul>\n",
    "Let's see it in action\n",
    "\n",
    "Casting integers to floats is fairly straight-forward"
   ]
  },
  {
   "cell_type": "code",
   "execution_count": null,
   "id": "ff23c49c-4bc8-469b-ae80-be5901eb301a",
   "metadata": {},
   "outputs": [],
   "source": [
    "a = float(2)\n",
    "print(a)\n",
    "print(type(a))"
   ]
  },
  {
   "cell_type": "markdown",
   "id": "cd24a9c7-e1cb-4aba-884f-014084a1ab47",
   "metadata": {},
   "source": [
    "When casting a float to an integer, Python will round down to the nearest integer"
   ]
  },
  {
   "cell_type": "code",
   "execution_count": null,
   "id": "0f4f05fc-f526-4d44-97d8-12bd5927ad7f",
   "metadata": {},
   "outputs": [],
   "source": [
    "b = int(78.81)\n",
    "print(b)\n",
    "print(type(b))"
   ]
  },
  {
   "cell_type": "markdown",
   "id": "f1c1aab5-6c6e-478f-9cca-786a46c4e7cd",
   "metadata": {},
   "source": [
    "You can even cast a number to a string! (This effectively just returns the number in quotes)"
   ]
  },
  {
   "cell_type": "code",
   "execution_count": null,
   "id": "70493b55-4111-498c-b578-39a9b852298a",
   "metadata": {},
   "outputs": [],
   "source": [
    "c = str(-1324.1)\n",
    "print(c)\n",
    "print(type(c))"
   ]
  },
  {
   "cell_type": "markdown",
   "id": "2026d359-1579-4305-aaed-f977d1769d8c",
   "metadata": {},
   "source": [
    "Things get a little less straight-forward when casting to <CODE>bool</CODE>. Below are the <CODE>bool</CODE> casting rules:\n",
    "<ul>\n",
    "    <li>Numbers: Zero of any numeric type, for example, <CODE>0</CODE>, <CODE>0.0</CODE>, <CODE>0+0j</CODE>, cast to <CODE>False</CODE>. Everything else casts to <CODE>True</CODE>.</li>\n",
    "    <li>Lists: An empty list, <CODE>[]</CODE>, will cast to <CODE>False</CODE>. Non-empty lists casts to <CODE>True</CODE>.</li>\n",
    "    <li>Tuples: An empty tuple, <CODE>()</CODE>, will cast to <CODE>False</CODE>. Non-empty tuples casts to <CODE>True</CODE>.</li>\n",
    "    <li>Strings: An empty string, <CODE>''</CODE>, will cast to <CODE>False</CODE>. Non-empty strings casts to <CODE>True</CODE>.</li>\n",
    "    <li>Dictionaries: The empty dictionary, <CODE>{}</CODE>, casts to <CODE>False</CODE>. Everything else casts to <CODE>True</CODE>.</li>\n",
    "    <li>NoneType: <CODE>None</CODE> casts to <CODE>False</CODE>.</li>\n",
    "</ul>\n",
    "Here are some examples:"
   ]
  },
  {
   "cell_type": "code",
   "execution_count": null,
   "id": "6ed3e2bc-ddd3-4efb-a43a-4cdca2a5fb76",
   "metadata": {},
   "outputs": [],
   "source": [
    "bool(0)"
   ]
  },
  {
   "cell_type": "code",
   "execution_count": null,
   "id": "59c720d4-de91-457a-a3ff-d946ded9cc48",
   "metadata": {},
   "outputs": [],
   "source": [
    "bool(-178.3)"
   ]
  },
  {
   "cell_type": "code",
   "execution_count": null,
   "id": "710f5e30-edf6-47d4-b51d-3ee64cd868a7",
   "metadata": {},
   "outputs": [],
   "source": [
    "bool([])"
   ]
  },
  {
   "cell_type": "code",
   "execution_count": null,
   "id": "c64ab5ce-e9d4-44a8-929d-86b26f8bb3b1",
   "metadata": {},
   "outputs": [],
   "source": [
    "bool([1, 2, 3, 4, 5])"
   ]
  },
  {
   "cell_type": "code",
   "execution_count": null,
   "id": "014cb61c-a2cc-486b-b877-c4533cae782e",
   "metadata": {},
   "outputs": [],
   "source": [
    "bool({})"
   ]
  },
  {
   "cell_type": "code",
   "execution_count": null,
   "id": "6f4f0eb5-ea8a-483e-8b02-ce3f950017bc",
   "metadata": {},
   "outputs": [],
   "source": [
    "bool({'key': 'value'})"
   ]
  },
  {
   "cell_type": "markdown",
   "id": "294bbd0f-2967-462f-b9cd-d333d3fa7ae7",
   "metadata": {},
   "source": [
    "The following operations are supported for several of the built-in types in Python:\n",
    "<ul>\n",
    "    <li>Addition: <CODE>+</CODE></li>\n",
    "    <li>Subtraction: <CODE>-</CODE></li>\n",
    "    <li>Multiplication: <CODE>*</CODE></li>\n",
    "    <li>Division: <CODE>/</CODE></li>\n",
    "    <li>Floored division: <CODE>//</CODE></li>\n",
    "    <li>Exponentiation: <CODE>**</CODE></li>\n",
    "</ul>\n",
    "Some examples with numerical types..."
   ]
  },
  {
   "cell_type": "code",
   "execution_count": null,
   "id": "36e661fb-7301-49a1-9707-615f82a45b0d",
   "metadata": {},
   "outputs": [],
   "source": [
    "1+1"
   ]
  },
  {
   "cell_type": "code",
   "execution_count": null,
   "id": "315cf083-af2e-42c3-bbc1-c32bf7f323f5",
   "metadata": {},
   "outputs": [],
   "source": [
    "10-3"
   ]
  },
  {
   "cell_type": "code",
   "execution_count": null,
   "id": "67f3ca8b-9703-4986-a870-da4edc5eb92f",
   "metadata": {},
   "outputs": [],
   "source": [
    "3*5.0"
   ]
  },
  {
   "cell_type": "code",
   "execution_count": null,
   "id": "b6d7a42a-4acf-4bb3-9608-219d20045097",
   "metadata": {},
   "outputs": [],
   "source": [
    "5/2"
   ]
  },
  {
   "cell_type": "code",
   "execution_count": null,
   "id": "2a20339f-ca61-4983-8f2d-394182f8b52a",
   "metadata": {},
   "outputs": [],
   "source": [
    "5//3"
   ]
  },
  {
   "cell_type": "code",
   "execution_count": null,
   "id": "de609903-6786-4b2a-a2c6-e59106409642",
   "metadata": {},
   "outputs": [],
   "source": [
    "9.0**2"
   ]
  },
  {
   "cell_type": "markdown",
   "id": "b2c2bfea-dca7-42d2-8d19-c8490e20af03",
   "metadata": {},
   "source": [
    "Some of these arithmetic operations are even defined for compound types. For example, list addition"
   ]
  },
  {
   "cell_type": "code",
   "execution_count": null,
   "id": "b5eb7ea7-9d12-4f86-815e-a8aae6370f62",
   "metadata": {},
   "outputs": [],
   "source": [
    "list1 = [1, 2, 3, 4]\n",
    "list2 = [5, 6]\n",
    "summed_list = list1 + list2\n",
    "print(summed_list)"
   ]
  },
  {
   "cell_type": "markdown",
   "id": "073e8410-86f0-41ff-a35d-37d5f5337a99",
   "metadata": {},
   "source": [
    "tuple addition"
   ]
  },
  {
   "cell_type": "code",
   "execution_count": null,
   "id": "60663063-04e2-4ffe-8a54-6363293aec15",
   "metadata": {},
   "outputs": [],
   "source": [
    "tup1 = (1, 2, 3, 4)\n",
    "tup2 = (5, 6)\n",
    "summed_tuple = tup1 + tup2\n",
    "print(summed_tuple)"
   ]
  },
  {
   "cell_type": "markdown",
   "id": "076a52ca-4494-448f-aae7-fc8247eb002c",
   "metadata": {},
   "source": [
    "and string addition are all defined"
   ]
  },
  {
   "cell_type": "markdown",
   "id": "606ed2fa-c048-4af9-a861-75917bd13943",
   "metadata": {
    "jp-MarkdownHeadingCollapsed": true,
    "tags": []
   },
   "source": [
    "In addition to using arithmetic operations to combine objects, it's also using to compare the value of objects as well. The comparison operators defined in Python are:\n",
    "<ul>\n",
    "    <li><CODE>==</CODE> (equal)</li>\n",
    "    <li><CODE>!=</CODE> (not Equal)</li>\n",
    "    <li><CODE><</CODE> (less than)</li>\n",
    "    <li><CODE>></CODE> (greater than)</li>\n",
    "    <li><CODE><=</CODE> (less than or equal to)</li>\n",
    "    <li><CODE>>=</CODE> (greater than or equal to)</li>\n",
    "</ul>\n",
    "A boolean value of either <CODE>True</CODE> or <CODE>False</CODE> will be returned appropreiately from a comparison operator. For example,"
   ]
  },
  {
   "cell_type": "code",
   "execution_count": null,
   "id": "e90ae357-8092-4761-93b1-90730bd12901",
   "metadata": {},
   "outputs": [],
   "source": [
    "2 == 2"
   ]
  },
  {
   "cell_type": "code",
   "execution_count": null,
   "id": "a3d0c144-87ed-4859-9106-fe5f49d72ed0",
   "metadata": {},
   "outputs": [],
   "source": [
    "1 > 0.5"
   ]
  },
  {
   "cell_type": "code",
   "execution_count": null,
   "id": "e288337e-8802-4b37-80aa-f52ecca3da36",
   "metadata": {},
   "outputs": [],
   "source": [
    "1 < 0.5"
   ]
  },
  {
   "cell_type": "markdown",
   "id": "1a5b7969-c1e9-4a23-ae0d-c2ec165c3990",
   "metadata": {},
   "source": [
    "Python also can handle comparing different types to one another. In particular, floats and integers are compared in a natural way"
   ]
  },
  {
   "cell_type": "code",
   "execution_count": null,
   "id": "05c2a713-dac7-4294-9bbc-237908659a40",
   "metadata": {},
   "outputs": [],
   "source": [
    "2 == 2.0"
   ]
  },
  {
   "cell_type": "markdown",
   "id": "03a20fed-dea3-4672-9096-52a852954a42",
   "metadata": {},
   "source": [
    "Multiple comparison can also be made at once."
   ]
  },
  {
   "cell_type": "code",
   "execution_count": null,
   "id": "0759dbdb-888a-41e5-8992-7dbcaeee2756",
   "metadata": {},
   "outputs": [],
   "source": [
    "a = 25\n",
    "print(15 < a < 30) # Checks whether or not a is greater than 15 and less that 30"
   ]
  },
  {
   "cell_type": "markdown",
   "id": "203dad2e-eb5a-4278-b8a0-a229b054623c",
   "metadata": {},
   "source": [
    "Boolean values can also be combined using the <CODE>and</CODE>, <CODE>or</CODE>, or <CODE>not</CODE> keywords."
   ]
  },
  {
   "cell_type": "code",
   "execution_count": null,
   "id": "c9359720-6669-46dc-a33f-392b5b09c222",
   "metadata": {},
   "outputs": [],
   "source": [
    "(a < 30) and (a > 15)"
   ]
  },
  {
   "cell_type": "code",
   "execution_count": null,
   "id": "34a92eca-04c1-46e8-8b0c-6c2d33d12fea",
   "metadata": {},
   "outputs": [],
   "source": [
    "(a < 30) and (a == 25)"
   ]
  },
  {
   "cell_type": "code",
   "execution_count": null,
   "id": "9d466ecf-047f-4af2-8de0-a8795b025e4b",
   "metadata": {},
   "outputs": [],
   "source": [
    "(a > 30) or (a == 25)"
   ]
  },
  {
   "cell_type": "code",
   "execution_count": null,
   "id": "2aed8f18-608d-452a-8936-fdb55babd16a",
   "metadata": {},
   "outputs": [],
   "source": [
    "(a > 30) or (a < 15)"
   ]
  },
  {
   "cell_type": "code",
   "execution_count": null,
   "id": "b0ef176b-d4d8-4da1-8adb-307f3cea714f",
   "metadata": {},
   "outputs": [],
   "source": [
    "not (a == 25)"
   ]
  },
  {
   "cell_type": "markdown",
   "id": "d437c31f-d4fb-4dfb-8cf4-a2d930a7f5aa",
   "metadata": {
    "jp-MarkdownHeadingCollapsed": true,
    "tags": []
   },
   "source": [
    "<h1>You try!</h1>"
   ]
  },
  {
   "cell_type": "markdown",
   "id": "dd86dde7-af44-45ed-bd56-d400099c1a30",
   "metadata": {},
   "source": [
    "Work through the next few exercises identifying errors and working with different types in Python. Each block of code has two errors. Comment the errors (and fix it if you'd like) for each block."
   ]
  },
  {
   "cell_type": "code",
   "execution_count": null,
   "id": "9ccf22e8-1665-46a0-a62d-3f1283296899",
   "metadata": {},
   "outputs": [],
   "source": [
    "my_new_dictionary: {               \n",
    "    'first key': \"first value\"     #colon should be equal sign\n",
    "    'second key': 'second value'   #commas should separate key/value pairs\n",
    "}"
   ]
  },
  {
   "cell_type": "code",
   "execution_count": null,
   "id": "9b686448-e332-48ee-b356-b0217c5fbf45",
   "metadata": {},
   "outputs": [],
   "source": [
    "neutrino1 = ('tao', '4.2Gev')\n",
    "neutrino2 = {'flavor': 'muon',     'energy (GeV)': 1.3e3}\n",
    "neutrino3 = {'flavor': 'electron', 'energy (GeV)': 8.2e2}\n",
    "neutrino4 = {'flavor': 'muon',     'energy (GeV)': 2.8e1}\n",
    "neutrino5 = {'flavor': 'electron', 'energy (GeV)': 3.6e2}\n",
    "neutrino6 = {'flavor': 'tao',      'energy (GeV)': 9.5e0}\n",
    "neutrino7 = {'flavor': 'electron', 'energy (GeV)': 7.3e1}\n",
    "neutrino8 = {'flavor': 'tao',      'energy (GeV)': 2.3e4}\n",
    "\n",
    "#neutrino1 does not have correct dictionary syntax. should follow key/value pattern like the rest of the entries\n",
    "\n",
    "neutrinos = [ neutrino1, neutrino2, neutrino3, neutrino4,\n",
    "              neutrino5, neutrino6, neutrino7, neutrino8 ]\n",
    "\n",
    "print(\"The energy of neutrino5 is \" + neutrino5['energy (GeV)'])\n",
    "#in order to print neutrino5's energy in a string, need to print str(neutrino5['energy (GeV)']"
   ]
  },
  {
   "cell_type": "markdown",
   "id": "df7940f6-2600-4895-872c-e83b565e2dc9",
   "metadata": {
    "jp-MarkdownHeadingCollapsed": true,
    "tags": []
   },
   "source": [
    "<h1>You try! (again!)</h1>"
   ]
  },
  {
   "cell_type": "markdown",
   "id": "7360b04e-d129-44c3-b097-03ace0929d55",
   "metadata": {},
   "source": [
    "Work through the next few exercises identifying errors and working with different types in Python. Each block of code has two errors. Comment the errors (and fix it if you'd like) for each block."
   ]
  },
  {
   "cell_type": "code",
   "execution_count": null,
   "id": "a687366d-00a2-4d06-9422-2a78b3b2c54f",
   "metadata": {},
   "outputs": [],
   "source": [
    "number_of_muon_neutrinos = 0\n",
    "\n",
    "for neutrino in neutrinos:\n",
    "     # The key should be a string and conditional statments use double equals \n",
    "    if neutrino[flavor] = 'muon':    \n",
    "        number_of_muon_neutrinos += 1"
   ]
  },
  {
   "cell_type": "code",
   "execution_count": null,
   "id": "0728bfec-e91e-4a9a-82ba-48bf5b20eebe",
   "metadata": {},
   "outputs": [],
   "source": [
    "number_of_muon_neutrinos = 0\n",
    "\n",
    "for neutrino in neutrinos:\n",
    "    if neutrino['flavor'] == 'muon':\n",
    "        number_of_muon_neutrinos += 1"
   ]
  },
  {
   "cell_type": "markdown",
   "id": "bc5c68b2-bcd9-48b2-9c0c-1d8df9264267",
   "metadata": {
    "jp-MarkdownHeadingCollapsed": true,
    "tags": []
   },
   "source": [
    "<h1>Write your own code!</h1>"
   ]
  },
  {
   "cell_type": "markdown",
   "id": "0cfd721f-84fe-4758-8b28-68685be25b4e",
   "metadata": {},
   "source": [
    "Using the array of neutrinos below, please\n",
    "<ul>\n",
    "    <li>Count how many have an energy above 1000 GeV</li>\n",
    "    <li>Using a for loop, add a new key to each neutrino called <\"triggered\" with a value of True if the neutrino has an energy greater than 100 GeV and False otherwise.\n",
    "Using a for loop, calculate the average of all neutrino energies"
   ]
  },
  {
   "cell_type": "code",
   "execution_count": null,
   "id": "faae56a3-94b0-4a14-9a23-578c3b308fd4",
   "metadata": {},
   "outputs": [],
   "source": [
    "neutrino1 = {'flavor': 'tao',      'energy (GeV)': 4.2  }\n",
    "neutrino2 = {'flavor': 'muon',     'energy (GeV)': 1.3e3}\n",
    "neutrino3 = {'flavor': 'electron', 'energy (GeV)': 8.2e2}\n",
    "neutrino4 = {'flavor': 'muon',     'energy (GeV)': 2.8e1}\n",
    "neutrino5 = {'flavor': 'electron', 'energy (GeV)': 3.6e2}\n",
    "neutrino6 = {'flavor': 'tao',      'energy (GeV)': 9.5e0}\n",
    "neutrino7 = {'flavor': 'electron', 'energy (GeV)': 7.3e1}\n",
    "neutrino8 = {'flavor': 'tao',      'energy (GeV)': 2.3e4}\n",
    "\n",
    "neutrinos = [ neutrino1, neutrino2, neutrino3, neutrino4,\n",
    "              neutrino5, neutrino6, neutrino7, neutrino8 ]"
   ]
  },
  {
   "cell_type": "code",
   "execution_count": null,
   "id": "de719051-9e4c-4dd4-bc1f-90dc39fde66a",
   "metadata": {},
   "outputs": [],
   "source": [
    "high_energy_neutrinos = 0\n",
    "\n",
    "for neutrino in neutrinos: \n",
    "    if neutrino['energy (GeV)'] > 1000: \n",
    "        high_energy_neutrinos += 1\n",
    "        \n",
    "print(high_energy_neutrinos)"
   ]
  },
  {
   "cell_type": "code",
   "execution_count": null,
   "id": "454fda21-4c29-4919-b811-a288acff4be9",
   "metadata": {},
   "outputs": [],
   "source": [
    "for neutrino in neutrinos: \n",
    "    if neutrino['energy (GeV)'] > 100: \n",
    "        neutrino['triggered'] = True\n",
    "    else:\n",
    "        neutrino['triggered'] = False"
   ]
  },
  {
   "cell_type": "code",
   "execution_count": null,
   "id": "fdf09ce1-9a4c-4808-9d7b-45eb9ccc01bd",
   "metadata": {},
   "outputs": [],
   "source": [
    "sum_energies = 0\n",
    "total_energies = 0\n",
    "\n",
    "for neutrino in neutrinos: \n",
    "    sum_energies += neutrino['energy (GeV)']\n",
    "    total_energies += 1\n",
    "    \n",
    "average_energies = sum_energies / total_energies\n",
    "print(average_energies)"
   ]
  },
  {
   "cell_type": "markdown",
   "id": "670a1a54-9e01-4e40-99fd-a26e31951648",
   "metadata": {
    "tags": []
   },
   "source": [
    "<h1>Practice plotting!</h1>"
   ]
  },
  {
   "cell_type": "markdown",
   "id": "ebf1bcb0-b256-4588-8227-fec2ed7b70e1",
   "metadata": {},
   "source": [
    "Using matplotlib and numpy, create two plots with three functions each:\n",
    "<ul>\n",
    "    <li>f(x)=ln(x)</li>\n",
    "    <li>g(x)=e<sup>x</sup></li>\n",
    "    <li>h(x)=log(x)</li>\n",
    "</ul>\n",
    "Make the x- and y- axes range from 0 to 100. Be sure all three functions have different line colors and styles, and include legend, axes labels, a plot title, and grid background. Make one plot with linear scale and the other with log scale. No need to set a y-axis limit for the log-log plot."
   ]
  },
  {
   "cell_type": "code",
   "execution_count": 33,
   "id": "3578e3c0-79c6-49e9-a985-57de5729c655",
   "metadata": {},
   "outputs": [],
   "source": [
    "import numpy as np\n",
    "import matplotlib.pyplot as plt"
   ]
  },
  {
   "cell_type": "code",
   "execution_count": 85,
   "id": "fb4b39f0-0534-4c96-9018-c16c5e13a7b2",
   "metadata": {},
   "outputs": [],
   "source": [
    "x = np.linspace(0,100)\n",
    "#f = np.log(x)\n",
    "g = np.e**2\n",
    "#h = np.log10(x)\n",
    "\n",
    "# notice that x != 0 for log(x) and ln(x). we can avoid this RuntimeWarning by including a where statement in the function:\n",
    "\n",
    "f = np.log(x, where=x>0)\n",
    "g = np.e**x\n",
    "h = np.log10(x, where=x>0)"
   ]
  },
  {
   "cell_type": "code",
   "execution_count": 88,
   "id": "fc8e9081-8557-4258-8b28-a6e79c8f7051",
   "metadata": {},
   "outputs": [
    {
     "data": {
      "image/png": "[encoded data removed]",
      "text/plain": [
       "<Figure size 640x480 with 1 Axes>"
      ]
     },
     "metadata": {},
     "output_type": "display_data"
    }
   ],
   "source": [
    "fig, ax = plt.subplots()\n",
    "ax.plot(x, f, label='ln(x)', linestyle='--', color='r')\n",
    "ax.plot(x, g, label=r'$e^x$', linestyle='-.', color='g')\n",
    "ax.plot(x, h, label=\"log(x)\", linestyle=':', color='b')\n",
    "ax.legend(title='Functions')\n",
    "ax.grid()\n",
    "ax.set_xlabel('x')\n",
    "ax.set_ylabel('y')\n",
    "ax.set_ylim(0, 10)\n",
    "plt.title('Practice Plot Linear Scale')\n",
    "plt.show()"
   ]
  },
  {
   "cell_type": "code",
   "execution_count": 91,
   "id": "77b49395-d04c-4cfa-95c1-faa64f2d0e8b",
   "metadata": {},
   "outputs": [
    {
     "data": {
      "image/png": "[encoded data removed]",
      "text/plain": [
       "<Figure size 640x480 with 1 Axes>"
      ]
     },
     "metadata": {},
     "output_type": "display_data"
    }
   ],
   "source": [
    "fig, ax = plt.subplots()\n",
    "ax.loglog(x, f, label='ln(x)', linestyle='--', color='r')\n",
    "ax.loglog(x, g, label=r'$e^x$', linestyle='-.', color='g')\n",
    "ax.loglog(x, h, label=\"log(x)\", linestyle=':', color='b')\n",
    "ax.legend(title='Functions')\n",
    "ax.grid()\n",
    "ax.set_xlabel('x')\n",
    "ax.set_ylabel('y')\n",
    "#ax.set_ylim(0, 10)\n",
    "plt.title('Practice Plot Log Scale')\n",
    "plt.show()"
   ]
  },
  {
   "cell_type": "code",
   "execution_count": null,
   "id": "1fdd7bf2-2acf-4ed9-8460-f852f40179da",
   "metadata": {},
   "outputs": [],
   "source": []
  }
 ],
 "metadata": {
  "kernelspec": {
   "display_name": "IceCube (py3-v4.2.1)",
   "language": "python",
   "name": "py3-v4.2.1"
  },
  "language_info": {
   "codemirror_mode": {
    "name": "ipython",
    "version": 3
   },
   "file_extension": ".py",
   "mimetype": "text/x-python",
   "name": "python",
   "nbconvert_exporter": "python",
   "pygments_lexer": "ipython3",
   "version": "3.10.2"
  }
 },
 "nbformat": 4,
 "nbformat_minor": 5
}
