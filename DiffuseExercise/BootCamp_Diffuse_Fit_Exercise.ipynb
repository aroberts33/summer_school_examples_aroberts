{
 "cells": [
  {
   "cell_type": "markdown",
   "metadata": {
    "id": "W2Nv6vLYV4zS"
   },
   "source": [
    "# Diffuse Fit Workshop #\n",
    "\n",
    "Manuel Silva \n",
    "\n",
    "June 16, 2022\n"
   ]
  },
  {
   "cell_type": "markdown",
   "metadata": {
    "id": "pMsPo7iBgu6W"
   },
   "source": [
    "# Prepare the Environment #\n",
    "* You need all these packages to play around with the data\n",
    "* [numpy](https://www.numpy.org/) and [scipy](https://www.scipy.org/) are for managing and analyzing the data \n",
    "* [matplotlib](https://matplotlib.org/) is good for making plots and visualizing data\n",
    "* [json](https://pythonbasics.org/json/) is a data structure for storing and sharing data\n",
    "* Start by importing them!\n",
    "\n",
    "\\\\\n",
    "*if you are not too familiar with these packages, make sure to follow the links and look at some examples"
   ]
  },
  {
   "cell_type": "code",
   "execution_count": null,
   "metadata": {
    "id": "kgvf5gISg1c6"
   },
   "outputs": [],
   "source": [
    "import numpy as np\n",
    "import scipy as sp\n",
    "import scipy.stats\n",
    "import matplotlib\n",
    "%matplotlib inline\n",
    "import matplotlib.pyplot as plt\n",
    "import json"
   ]
  },
  {
   "cell_type": "markdown",
   "metadata": {
    "id": "Eqp005RP4dZi"
   },
   "source": [
    "# Download the dataset #\n",
    "* Start by downloading the dataset to your machine\n",
    "  *  /home/icecube-bootcamp/bootcamp2022/diffuse_exercise/hese_toy_data.json\n",
    "  *  /home/icecube-bootcamp/bootcamp2022/diffuse_exercise/\n",
    "  hese_toy_simulation.json"
   ]
  },
  {
   "cell_type": "markdown",
   "metadata": {
    "id": "NOrnyOChwWWf"
   },
   "source": [
    "# Load the Simulation (eg expected rates) #\n",
    "* The dataset was saved as a json file\n",
    "* In the real world, you might use \".i3\", \".npy\", \".pkl\" datasets\n",
    "  * Follow the example below, for loading the simulation dataset\n",
    "  \n",
    "* It is always a good idea to \"print\" every few lines and make sure the dataset is properly loaded into your python session\n"
   ]
  },
  {
   "cell_type": "code",
   "execution_count": 1,
   "metadata": {
    "id": "iQLrjYQbx09i"
   },
   "outputs": [
    {
     "ename": "NameError",
     "evalue": "name 'json' is not defined",
     "output_type": "error",
     "traceback": [
      "\u001b[0;31m---------------------------------------------------------------------------\u001b[0m",
      "\u001b[0;31mNameError\u001b[0m                                 Traceback (most recent call last)",
      "\u001b[0;32m<ipython-input-1-81144072e58f>\u001b[0m in \u001b[0;36m<module>\u001b[0;34m\u001b[0m\n\u001b[0;32m----> 1\u001b[0;31m \u001b[0mjson_contents\u001b[0m \u001b[0;34m=\u001b[0m \u001b[0mjson\u001b[0m\u001b[0;34m.\u001b[0m\u001b[0mload\u001b[0m\u001b[0;34m(\u001b[0m\u001b[0mopen\u001b[0m\u001b[0;34m(\u001b[0m\u001b[0;34m\"/home/icecube-bootcamp/bootcamp2022/diffuse_exercise/hese_toy_simulation.json\"\u001b[0m\u001b[0;34m,\u001b[0m \u001b[0;34m\"r\"\u001b[0m\u001b[0;34m)\u001b[0m\u001b[0;34m)\u001b[0m\u001b[0;34m\u001b[0m\u001b[0;34m\u001b[0m\u001b[0m\n\u001b[0m\u001b[1;32m      2\u001b[0m \u001b[0msimulation_mapping\u001b[0m \u001b[0;34m=\u001b[0m \u001b[0mjson_contents\u001b[0m\u001b[0;34m[\u001b[0m\u001b[0;34m\"mapping\"\u001b[0m\u001b[0;34m]\u001b[0m\u001b[0;34m\u001b[0m\u001b[0;34m\u001b[0m\u001b[0m\n\u001b[1;32m      3\u001b[0m \u001b[0msimulation_events\u001b[0m \u001b[0;34m=\u001b[0m \u001b[0mnp\u001b[0m\u001b[0;34m.\u001b[0m\u001b[0marray\u001b[0m\u001b[0;34m(\u001b[0m\u001b[0mjson_contents\u001b[0m\u001b[0;34m[\u001b[0m\u001b[0;34m\"events\"\u001b[0m\u001b[0;34m]\u001b[0m\u001b[0;34m)\u001b[0m\u001b[0;34m\u001b[0m\u001b[0;34m\u001b[0m\u001b[0m\n\u001b[1;32m      4\u001b[0m \u001b[0;32mdel\u001b[0m \u001b[0mjson_contents\u001b[0m\u001b[0;34m\u001b[0m\u001b[0;34m\u001b[0m\u001b[0m\n",
      "\u001b[0;31mNameError\u001b[0m: name 'json' is not defined"
     ]
    }
   ],
   "source": [
    "json_contents = json.load(open(\"/home/icecube-bootcamp/bootcamp2022/diffuse_exercise/hese_toy_simulation.json\", \"r\"))\n",
    "simulation_mapping = json_contents[\"mapping\"]\n",
    "simulation_events = np.array(json_contents[\"events\"])\n",
    "del json_contents"
   ]
  },
  {
   "cell_type": "code",
   "execution_count": 7,
   "metadata": {
    "id": "vpI4-zghYsVl"
   },
   "outputs": [
    {
     "name": "stdout",
     "output_type": "stream",
     "text": [
      "[('astroWeight', 0), ('atmoWeight', 1), ('energy', 2), ('primaryEnergy', 3), ('primaryZenith', 4), ('topology', 5), ('zenith', 6)]\n"
     ]
    }
   ],
   "source": [
    "sim_map = sorted(simulation_mapping.items(), key=lambda x: x[1])\n",
    "print (sim_map)"
   ]
  },
  {
   "cell_type": "code",
   "execution_count": 8,
   "metadata": {
    "id": "K6vkE8NYnK89"
   },
   "outputs": [
    {
     "name": "stdout",
     "output_type": "stream",
     "text": [
      "[[1.455e-05 9.797e-06 1.007e+05 1.391e+05 1.581e+00 0.000e+00 1.500e+00]\n",
      " [7.289e-06 4.587e-07 3.191e+05 2.485e+05 7.607e-01 0.000e+00 9.098e-01]]\n"
     ]
    },
    {
     "data": {
      "text/plain": [
       "[[('astroWeight', 1.455e-05),\n",
       "  ('atmoWeight', 9.797e-06),\n",
       "  ('energy', 100700.0),\n",
       "  ('primaryEnergy', 139100.0),\n",
       "  ('primaryZenith', 1.581),\n",
       "  ('topology', 0.0),\n",
       "  ('zenith', 1.5)],\n",
       " [('astroWeight', 7.289e-06),\n",
       "  ('atmoWeight', 4.587e-07),\n",
       "  ('energy', 319100.0),\n",
       "  ('primaryEnergy', 248500.0),\n",
       "  ('primaryZenith', 0.7607),\n",
       "  ('topology', 0.0),\n",
       "  ('zenith', 0.9098)]]"
      ]
     },
     "execution_count": 8,
     "metadata": {},
     "output_type": "execute_result"
    }
   ],
   "source": [
    "print (simulation_events[:2])\n",
    "[[(k, e[i]) for k, i in sim_map] for e in simulation_events[:2]]"
   ]
  },
  {
   "cell_type": "markdown",
   "metadata": {
    "id": "itCJNUKhmXkJ"
   },
   "source": [
    "# Load the Data (eg the observed rates) #\n",
    "* Follow the same procedure to load the data\n",
    "  * remember to change the variable names so you don't accidentally overwrite the simulation"
   ]
  },
  {
   "cell_type": "code",
   "execution_count": null,
   "metadata": {
    "id": "yV4OUST0nbaE"
   },
   "outputs": [],
   "source": []
  },
  {
   "cell_type": "code",
   "execution_count": null,
   "metadata": {
    "id": "Bam_iHMpnhxV"
   },
   "outputs": [],
   "source": []
  },
  {
   "cell_type": "code",
   "execution_count": null,
   "metadata": {
    "id": "l97PkyW-nnnU"
   },
   "outputs": [],
   "source": []
  },
  {
   "cell_type": "markdown",
   "metadata": {
    "id": "nEs27hZa1gRL"
   },
   "source": [
    "# Computing the Expectation Value (eg $\\lambda$) #\n",
    "\n",
    "* Now let's turn on IceCube for 1 year, how many neutrinos do you expect to see?\n",
    "  * how many neutrinos for energies > 100 TeV?\n",
    "  * what about zeniths > 90?\n",
    "* The best way to compute an expectation value is to use Monte Carlo!\n",
    "* Start by generating neutrinos and \"inject\" them near IceCube\n",
    "  * You usually inject neutrinos following chosen energy, zenith, azimuthal distributions, and over a certain area of IceCube (should we inject directly inside IceCube, further away, deepcore only?)\n",
    "\n",
    "\\\\\n",
    "* Since you choose what events we generate (maybe you want high energy neutrinos vs low energy neutrinos), we need to normalize the simulated events\n",
    "  * Take your ensemble of simulated events and compute a \"gen-weight\" for every event, refer to this \"gen-weight\" as a generated flux:\n",
    "  \n",
    "  $\\Phi_{generated} = N_{generated} [GeV^{-1} * sr^{-1} * cm^{-2}]$\n",
    "  \n",
    "* Now choose a theoretical model, either atmospheric or astrophysical flux model, lets proceed with astrophysical for now\n",
    "  * Take 2 year MESE flux as an example\n",
    "  \n",
    "  $\\Phi_{model} = \\Phi_{MESE} = 2.06 *10^{-18}*(\\frac{E_{\\nu}}{100TeV})^{-2.46} [s^{-1} * GeV^{-1} * sr^{-1} * cm^{-2}]$\n",
    "  \n",
    "\\\\\n",
    "* You can now combine the generated flux and theoretical fluxes to compute event rates\n",
    "  * Each event will now have it's own expectation rate in units $s^{-1}$\n",
    "  * This is literally the expectation (weight) probability that IceCube \"sees\" an event exactly like this every second\n",
    "\n",
    "  $w = \\frac{\\Phi_{model}}{\\Phi_{generated}}$\n",
    "\n",
    "* $w$ is the expectation value assuming a perfect detector with perfect simulation for that particular event with particular energy/zenith/etc..."
   ]
  },
  {
   "cell_type": "markdown",
   "metadata": {
    "id": "M9urtGtQ1m9G"
   },
   "source": [
    "# Apply Realistic Weights to the Simulation! #\n",
    "* After taking into account your event selection, detector effects, etc.... we now denote a weight \"i\" per event\n",
    "* If we choose all events from 100 GeV-1 TeV, zenith < 90, cascade topology, the term $w_{i}$ would tell us how many neutrinos we expect in IceCube with these particular properties per second (we refer to this criteria as a bin).\n",
    "\n",
    "  $w_{i} = \\Sigma_{bin-i}\\frac{\\Phi_{model}}{\\Phi_{generated}}$\n",
    "  \n",
    "* Since the HESE dataset measures the astrophysical and atmospheric neutrino fluxes, we need to take both expectations into account\n",
    "\n",
    "  $w_{i,atmos} = \\Sigma_{bin-i}\\frac{\\Phi_{atmos}}{\\Phi_{gen,atmos}}$,\n",
    "\n",
    "  $w_{i,astro} = \\Sigma_{bin-i}\\frac{\\Phi_{astro}}{\\Phi_{gen,astro}}$\n",
    "\n",
    "  $w_{i,total} = w_{i,atmos} + w_{i,astro}$\n",
    "\n",
    "\\\\\n",
    "*  At this point, we are technically done computing our expecation value. \n",
    "*  We still need to run our fit to data using simulation (remember our $\\Phi_{0}$ scan?)\n",
    "  \n",
    "\n",
    "# Let's write some code now... #\n",
    "\n",
    "* For the atmospheric component, we will add some overall normalization term ($N_{atmos}$)\n",
    "\n",
    "  $w'_{i,atmos}=N_{atmos}*w_{i,atmos}$\n",
    "\n",
    "* For the astrophysical component, we will add some overall normalization term ($N_{astro}$) along with an additional energy spectral index term ($\\gamma$)\n",
    "  * scale your simulation by the following: $1.0⋅\\frac{E_{\\nu}}{100TeV}^{−2.5}$ \n",
    "  * why did we do this?\n",
    "\n",
    "  $w'_{i,astro}=N_{astro}* \\frac{E_{\\nu}}{100TeV}^{−\\gamma}/ \\frac{E_{\\nu}}{100TeV}^{−2.5} * w_{i,astro}$\n",
    "  \n",
    "\\\\\n",
    "* look at the simulation you loaded earlier (eg \"print simulation_events\")\n",
    "#We gave you the weights!#\n",
    "\n",
    "* In practice, you will spend a majority of your time setting up these weights yourself. We refer to this as \"reweighting\" the simulation. But why do we prefer reweighing over resimulation?\n",
    "\n",
    "* you want to takes these weights and rescale them to different $N_{atmos}$, $N_{astro}$, $\\gamma$\n",
    "\n",
    "* write a python function now \n",
    "\n",
    "def weight_event(event, atmos_norm, astro_norm, astro_gamma):\n",
    "\n",
    "    fill in your code here"
   ]
  },
  {
   "cell_type": "code",
   "execution_count": null,
   "metadata": {
    "id": "COjJPleBC5wb"
   },
   "outputs": [],
   "source": []
  },
  {
   "cell_type": "markdown",
   "metadata": {
    "id": "3vO_194te0J5"
   },
   "source": [
    "# Bin the Data! #\n",
    "* We can take all the HESE events and run a fit using the maximum likelihood technique you learned yesterday!\n",
    "  * But remember, there are different detector effects for different energy ranges, zeniths, topologies, so we need to be a little more rigorous here!\n",
    "*  Let's use energy, zenith, and topology as our observables and create some bins \n",
    "\n",
    "*  Start by creating bins for different energy ranges\n",
    "  *  The HESE dataset is primarily for high energy, E = [60 TeV, 10 PeV]\n",
    "  *  Do you think log space or linear space is preferable?\n",
    "*  Now create bins for different zenith ranges\n",
    "  *  HESE is all sky, $\\theta = [0, \\pi]$\n",
    "  *  Do you think we should bin in linear space, log space\n",
    "  *  What about binning it in $\\theta$ vs cos($\\theta$)\n",
    "*  HESE can theoretically measure three different topolgies, but for today lets stick to tracks vs cascades \n",
    "  * Create two bins for topology\n",
    "\n",
    "\\\\\n",
    "\n",
    "* Easiest way to create bins is by using \"[numpy.logspace](https://docs.scipy.org/doc/numpy/reference/generated/numpy.logspace.html)\" and \"[numpy.linspace](https://docs.scipy.org/doc/numpy/reference/generated/numpy.linspace.html)\"\n",
    "* When you are done, create a histogram in matplotlib using energy > 60 TeV. Then zenith < 90, etc...\n"
   ]
  },
  {
   "cell_type": "code",
   "execution_count": null,
   "metadata": {
    "id": "xuSTvs3VZSrF"
   },
   "outputs": [],
   "source": []
  },
  {
   "cell_type": "code",
   "execution_count": null,
   "metadata": {
    "id": "v9QOYSRaYC7c"
   },
   "outputs": [],
   "source": []
  },
  {
   "cell_type": "markdown",
   "metadata": {
    "id": "QrnLN1qfFSfi"
   },
   "source": [
    "# Bin the Data - Advanced #\n",
    "* You can use the bins you defined above and apply it to both simulation and data\n",
    "  * this means that there will now be a set of observed events and expected events, where each bin has its own set of observation and expectations\n",
    "* What you should now do is for each energy, zenith, topologies bin defined above and scan over all possible $N_{atmos}$, $N_{astro}$, $\\gamma$ \n",
    "  * As you can see, this has potential to get very memory heavy, very fast, so just use this code to bin the data and simulation"
   ]
  },
  {
   "cell_type": "code",
   "execution_count": 5,
   "metadata": {
    "id": "XKdet-gmLyx7"
   },
   "outputs": [
    {
     "ename": "NameError",
     "evalue": "name 'energy_bins' is not defined",
     "output_type": "error",
     "traceback": [
      "\u001b[0;31m---------------------------------------------------------------------------\u001b[0m",
      "\u001b[0;31mNameError\u001b[0m                                 Traceback (most recent call last)",
      "\u001b[0;32m<ipython-input-5-965ebb192ae3>\u001b[0m in \u001b[0;36m<module>\u001b[0;34m\u001b[0m\n\u001b[1;32m      1\u001b[0m def make_bin_masks(energies, zeniths, topologies,\n\u001b[0;32m----> 2\u001b[0;31m                    energy_bins=energy_bins, zenith_bins=zenith_bins, topology_bins=topology_bins):\n\u001b[0m\u001b[1;32m      3\u001b[0m \u001b[0;34m\u001b[0m\u001b[0m\n\u001b[1;32m      4\u001b[0m     \u001b[0;32massert\u001b[0m\u001b[0;34m(\u001b[0m\u001b[0mlen\u001b[0m\u001b[0;34m(\u001b[0m\u001b[0menergies\u001b[0m\u001b[0;34m)\u001b[0m \u001b[0;34m==\u001b[0m \u001b[0mlen\u001b[0m\u001b[0;34m(\u001b[0m\u001b[0mzeniths\u001b[0m\u001b[0;34m)\u001b[0m\u001b[0;34m)\u001b[0m\u001b[0;34m\u001b[0m\u001b[0;34m\u001b[0m\u001b[0m\n\u001b[1;32m      5\u001b[0m     \u001b[0;32massert\u001b[0m\u001b[0;34m(\u001b[0m\u001b[0mlen\u001b[0m\u001b[0;34m(\u001b[0m\u001b[0menergies\u001b[0m\u001b[0;34m)\u001b[0m \u001b[0;34m==\u001b[0m \u001b[0mlen\u001b[0m\u001b[0;34m(\u001b[0m\u001b[0mtopologies\u001b[0m\u001b[0;34m)\u001b[0m\u001b[0;34m)\u001b[0m\u001b[0;34m\u001b[0m\u001b[0;34m\u001b[0m\u001b[0m\n",
      "\u001b[0;31mNameError\u001b[0m: name 'energy_bins' is not defined"
     ]
    }
   ],
   "source": [
    "def make_bin_masks(energies, zeniths, topologies,\n",
    "                   energy_bins=energy_bins, zenith_bins=zenith_bins, topology_bins=topology_bins):\n",
    "    \n",
    "    assert(len(energies) == len(zeniths))\n",
    "    assert(len(energies) == len(topologies))\n",
    "    \n",
    "    n_energy_bins = len(energy_bins) - 1\n",
    "    n_zenith_bins = len(zenith_bins) - 1\n",
    "    n_topology_bins = len(topology_bins) - 1\n",
    "    \n",
    "    energy_mapping = np.digitize(energies, bins=energy_bins) - 1\n",
    "    zenith_mapping = np.digitize(zeniths, bins=zenith_bins) - 1\n",
    "    topology_mapping = np.digitize(topologies, bins=topology_bins) - 1\n",
    "    bin_masks = []\n",
    "    for i in range(n_topology_bins):\n",
    "        for j in range(n_zenith_bins):\n",
    "            for k in range(n_energy_bins):\n",
    "                mask = topology_mapping == i\n",
    "                mask = np.logical_and(mask, zenith_mapping == j)\n",
    "                mask = np.logical_and(mask, energy_mapping == k)\n",
    "                bin_masks.append(mask)\n",
    "    return bin_masks\n",
    "  \n",
    "bin_masks = make_bin_masks(simulation_events[...,2], simulation_events[...,6], simulation_events[...,5])\n",
    "data_masks = make_bin_masks(data_events[...,0], data_events[...,2], data_events[...,1])"
   ]
  },
  {
   "cell_type": "markdown",
   "metadata": {
    "id": "s_bUmUcCNhT_"
   },
   "source": [
    "# Pre-Fit Cross-Checks #\n",
    "* At this point, you need to make sure that your set of observations and expectations make reasonable sense\n",
    "* Write a function that takes the events, the bin masks, and our weights\n",
    "  * Use the following parameters so you can double-check: atmos_norm=1.0, astro_norm=1.0, astro_gamma=2.5\n",
    "\n",
    "def get_expectation(events, masks, weighting):\n",
    "\n",
    "    fill in your code here\n",
    "    \n",
    "    return np.array(\"array of expectation value\")"
   ]
  },
  {
   "cell_type": "code",
   "execution_count": null,
   "metadata": {
    "id": "IaEofOSrIBci"
   },
   "outputs": [],
   "source": []
  },
  {
   "cell_type": "code",
   "execution_count": null,
   "metadata": {
    "id": "BnLikmOkICNf"
   },
   "outputs": [],
   "source": []
  },
  {
   "cell_type": "markdown",
   "metadata": {
    "id": "SPhTu3T0B6RP"
   },
   "source": [
    "# Likelihood Evaluation #\n",
    "*  Now we define our likelihood function, which will be a poissonian likelihood (like the previous example), the only difference is that the expectation is a bit more complicated, and we have 3 free parameters instead of one.\n",
    "\n",
    "\n",
    "\n",
    "$\\Large \\mathcal{L}(\\overrightarrow{\\theta | d})=\\prod_{i} \\frac{\\left(\\lambda_{i}\\right)^{k_{i}} e^{-\\lambda_{i}}}{k_i!}$\n",
    "\n",
    "\n",
    "\n",
    "$\\Large \\log \\mathcal{L}(\\theta \\overrightarrow{ |} d)=\\sum_{i} k_{i} \\cdot \\log \\left(\\lambda_{i}\\right)-\\lambda_{i}-\\log\\Gamma\\left[k_{i}+1\\right]$\n",
    "\n",
    "\\\\\n",
    "\n",
    "#Write a function to compute the loglikelihood#\n",
    "\n",
    "\\\\\n",
    "\n",
    "def llh(data, simulation_events, atmos_norm, astro_norm, astro_gamma):\n",
    "\n",
    "    fill in your code here\n",
    "    \n",
    "    return loglikelihood"
   ]
  },
  {
   "cell_type": "code",
   "execution_count": null,
   "metadata": {
    "id": "OoS0xx8eCEUp"
   },
   "outputs": [],
   "source": []
  },
  {
   "cell_type": "markdown",
   "metadata": {
    "id": "n27Dfk5FCQXt"
   },
   "source": [
    "# Test using the data #\n",
    "* Test the function using the data and some assumed values for your free parameters before you move on\n",
    "  * Use the following parameters so you can double-check with us: atmos_norm=1.0, astro_norm=1.0, astro_gamma=2.5"
   ]
  },
  {
   "cell_type": "code",
   "execution_count": null,
   "metadata": {
    "id": "sYhekmP-CKgV"
   },
   "outputs": [],
   "source": []
  },
  {
   "cell_type": "markdown",
   "metadata": {
    "id": "IDwCAGD0CHo0"
   },
   "source": [
    "# Minimize the llh function#\n",
    "\n",
    "Earlier today, we used a minimizer for 1 free parameter. Now use the same function, but modify it to fit 3 parameters."
   ]
  },
  {
   "cell_type": "code",
   "execution_count": null,
   "metadata": {
    "id": "F7dS9j6PCGHa"
   },
   "outputs": [],
   "source": []
  },
  {
   "cell_type": "markdown",
   "metadata": {
    "id": "D4tw5wxYDLt1"
   },
   "source": [
    "# Check your Final Results #\n",
    "\n",
    "* \"results\" contains the output of the fit\n",
    "* \"results.x\" contains an array of the best-fit values"
   ]
  },
  {
   "cell_type": "code",
   "execution_count": null,
   "metadata": {
    "id": "zirwO2x7DRsC"
   },
   "outputs": [],
   "source": [
    "print(results)\n",
    "print(results.x)"
   ]
  },
  {
   "cell_type": "code",
   "execution_count": null,
   "metadata": {
    "id": "DD5kLBtSDXwH"
   },
   "outputs": [],
   "source": [
    "print ('Atmospheric Normalization = ', results.x[0])\n",
    "print ('Astrophysical Normalization = ', results.x[1])\n",
    "print ('Astrophysical Gamma = ', results.x[2])"
   ]
  },
  {
   "cell_type": "markdown",
   "metadata": {
    "id": "X7pFeUQTcWo5"
   },
   "source": [
    "# Congratulations! #\n",
    "\n",
    "You have officially completed a 3-dimensional diffuse fit!\n",
    "Now go have a cup of coffee and relax. \n",
    "\n",
    "You're done with bootcamp!!\n",
    "\n",
    "\n"
   ]
  },
  {
   "cell_type": "markdown",
   "metadata": {
    "id": "JwtzIidqQ5va"
   },
   "source": [
    "![25b5615e9e1a1f8fd4c0cfd4fa548247.jpeg](data:image/jpeg;base64,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)"
   ]
  }
 ],
 "metadata": {
  "colab": {
   "collapsed_sections": [],
   "name": "BootCamp_Diffuse_Fit_Exercise.ipynb",
   "provenance": []
  },
  "kernelspec": {
   "display_name": "Python 3",
   "language": "python",
   "name": "python3"
  },
  "language_info": {
   "codemirror_mode": {
    "name": "ipython",
    "version": 3
   },
   "file_extension": ".py",
   "mimetype": "text/x-python",
   "name": "python",
   "nbconvert_exporter": "python",
   "pygments_lexer": "ipython3",
   "version": "3.7.5"
  }
 },
 "nbformat": 4,
 "nbformat_minor": 1
}
